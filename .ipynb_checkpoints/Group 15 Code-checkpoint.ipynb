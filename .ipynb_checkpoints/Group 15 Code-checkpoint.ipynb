{
 "cells": [
  {
   "cell_type": "markdown",
   "id": "c9990398",
   "metadata": {},
   "source": [
    "### Cosc2671 Assignment 2 Group 15 \n"
   ]
  },
  {
   "cell_type": "code",
   "execution_count": null,
   "id": "d8680d4e",
   "metadata": {},
   "outputs": [],
   "source": [
    "import pandas as pd\n",
    "import numpy as np\n",
    "import praw\n",
    "import matplotlib.pyplot as plt\n",
    "import nltk"
   ]
  },
  {
   "cell_type": "markdown",
   "id": "20918d17",
   "metadata": {},
   "source": []
  }
 ],
 "metadata": {
  "kernelspec": {
   "display_name": "base",
   "language": "python",
   "name": "python3"
  },
  "language_info": {
   "codemirror_mode": {
    "name": "ipython",
    "version": 3
   },
   "file_extension": ".py",
   "mimetype": "text/x-python",
   "name": "python",
   "nbconvert_exporter": "python",
   "pygments_lexer": "ipython3",
   "version": "3.12.4"
  }
 },
 "nbformat": 4,
 "nbformat_minor": 5
}
